{
  "nbformat": 4,
  "nbformat_minor": 0,
  "metadata": {
    "colab": {
      "name": "Teste_tecnico_codex.ipynb",
      "provenance": []
    },
    "kernelspec": {
      "name": "python3",
      "display_name": "Python 3"
    },
    "language_info": {
      "name": "python"
    }
  },
  "cells": [
    {
      "cell_type": "markdown",
      "metadata": {
        "id": "NY9MkTejmk83"
      },
      "source": [
        "1) Validate CNPJ format and check digits\n",
        "Given a string, check if it looks like a CNPJ, considering two formats:\n",
        "\n",
        "• Formatted: \"00.000.000/0000-00\"\n",
        "\n",
        "• Number only: \"00000000000000\"\n",
        "\n",
        "Validate if it’s a well-formed CNPJ, considering the “check digits”, as defined by Receita\n",
        "Federal"
      ]
    },
    {
      "cell_type": "code",
      "metadata": {
        "colab": {
          "base_uri": "https://localhost:8080/"
        },
        "id": "4RvuFHMNmccw",
        "outputId": "109959fd-07e7-4a9b-f310-60832131025f"
      },
      "source": [
        "# Funcao que verifica se um digito do cnpj e um numero\n",
        "def isnumber(string):\n",
        "  if ord(string)- ord('0')<=9 and ord(string)- ord('0')>=0:\n",
        "    return True\n",
        "  return False\n",
        "\n",
        "\n",
        "# Funcao que transforma a string com o cnpj em uma lista com inteiros com valor dos digitos\n",
        "def converte_cnpj(cnpj):\n",
        "  aux = []\n",
        "  for i in range(len(cnpj)):\n",
        "    if isnumber(cnpj[i]):\n",
        "      aux.append(int(cnpj[i]))\n",
        "  return aux\n",
        "\n",
        "\n",
        "# Funcao que verifica se o formato do cnpj e valido e se os digitos verificadores estao corretos\n",
        "# Retorna 0 se o cnpj e valido, -1 se o formato e invalido e -2 se houve falha na verificacao dos digitos\n",
        "def checa_cnpj(cnpj):\n",
        "  if len(cnpj)==18: # verifica formatado\n",
        "      for i in range(len(cnpj)):\n",
        "        if i==2:\n",
        "          if cnpj[i] != '.':\n",
        "            return -1\n",
        "        elif i==6:\n",
        "          if cnpj[i] != '.':\n",
        "            return -1\n",
        "        elif i==10:\n",
        "          if cnpj[i] != '/':\n",
        "            return -1\n",
        "        elif i==15:\n",
        "          if cnpj[i] != '-':\n",
        "            return -1\n",
        "        elif isnumber(cnpj[i]) == False:\n",
        "          return -1\n",
        "  elif len(cnpj)==14: # verifica apenas numeros\n",
        "      for i in range(len(cnpj)):\n",
        "        if isnumber(cnpj[i]) == False:\n",
        "          return -1\n",
        "  else: \n",
        "      return -1\n",
        "  \n",
        "  # Testa os digitos verificadores\n",
        "  digito = converte_cnpj(cnpj)\n",
        "  v = [0,0]\n",
        "\n",
        "  # Calcula o primeiro digito\n",
        "  for i in range(4):\n",
        "    v[0] += (5-i)*digito[i]\n",
        "  for i in range(4,12):\n",
        "    v[0] += (13-i)*digito[i]\n",
        "  v[0] = 11 - v[0] % 11\n",
        "  if v[0] >= 10:\n",
        "    v[0] = 0\n",
        "  \n",
        "  # Calcula o segundo digito\n",
        "  for i in range(5):\n",
        "    v[1] += (6-i)*digito[i]\n",
        "  for i in range(5,13):\n",
        "    v[1] += (14-i)*digito[i]\n",
        "  v[1] = 11 - v[1] % 11\n",
        "  if v[1] >= 10:\n",
        "    v[1] = 0\n",
        "\n",
        "  # Verifica se o resultado obtido e o valor informado sao iguais  \n",
        "  if (v[0] == digito[12] and v[1] == digito[13]):\n",
        "    return 0\n",
        "  else:\n",
        "    return -2\n",
        "\n",
        "\n",
        "# Variavel para armazenar a string com o cnpj que sera verificado\n",
        "texto = \"00.416.968/0001-01\"\n",
        "\n",
        "resultado = checa_cnpj(texto)\n",
        "if resultado == 0:\n",
        "  print(f\"O cnpj {texto} e valido\")\n",
        "elif resultado == -1:\n",
        "  print(f\"O cnpj {texto} tem um formato invalido\")\n",
        "elif resultado== -2:\n",
        "  print(f\"O cnpj {texto} tem os digitos verificadores invalidos\")"
      ],
      "execution_count": 42,
      "outputs": [
        {
          "output_type": "stream",
          "name": "stdout",
          "text": [
            "O cnpj 00.416.968/0001-01 e valido\n"
          ]
        }
      ]
    },
    {
      "cell_type": "markdown",
      "metadata": {
        "id": "dMZGcfin-y0_"
      },
      "source": [
        "2) Test if two rectangles intersect\n",
        "\n",
        "Considering two rectangles in a discrete grid (like pixels in a display), each defined by two\n",
        "points, return true if they intersect, false otherwise."
      ]
    },
    {
      "cell_type": "code",
      "metadata": {
        "colab": {
          "base_uri": "https://localhost:8080/"
        },
        "id": "gNMcqdLI-69-",
        "outputId": "4b9bae81-9a7b-4cb5-912f-af112a929747"
      },
      "source": [
        "A = [[3,5],[11,11]]\n",
        "B = [[7,2],[13,7]]\n",
        "C = [[11,11],[15,13]]\n",
        "\n",
        "def verifica(A,B):\n",
        "  intx = 0\n",
        "  inty = 0\n",
        "  for i in range(2):\n",
        "    cordx = A[i][0]\n",
        "    cordy = A[i][1]\n",
        "    \n",
        "    # Testa se os valores de x dos pontos de A estao no intervalo dos valores de x dos pontos de B\n",
        "    if cordx >= B[0][0] and cordx <= B[1][0]:\n",
        "      intx = 1 \n",
        "\n",
        "    # Testa se os valores de y dos pontos de A estao no intervalo dos valores de y dos pontos de B  \n",
        "    if cordy >= B[0][1] and cordy <= B[1][1]:\n",
        "      inty = 1\n",
        "  # Retorna True se ouver interseccao\n",
        "  if intx==1 and inty==1:\n",
        "    return True\n",
        "  else:\n",
        "    return False\n",
        "\n",
        "print(verifica(A,B))\n",
        "print(verifica(B,C))\n",
        "print(verifica(A,C))"
      ],
      "execution_count": 46,
      "outputs": [
        {
          "output_type": "stream",
          "name": "stdout",
          "text": [
            "True\n",
            "False\n",
            "True\n"
          ]
        }
      ]
    },
    {
      "cell_type": "markdown",
      "metadata": {
        "id": "9Sn9hUY9MgRu"
      },
      "source": [
        "3) Compute the area of intersection between two rectangles\n",
        "\n",
        "Considering two rectangles in a discrete grid (like pixels in a display), each defined by two\n",
        "points, compute the area of intersection between the two."
      ]
    },
    {
      "cell_type": "code",
      "metadata": {
        "colab": {
          "base_uri": "https://localhost:8080/"
        },
        "id": "2zLTIKDDMjeW",
        "outputId": "6aaece8b-1727-42fe-8dbf-8d05eeacbeed"
      },
      "source": [
        "def area(A,B):\n",
        "  \n",
        "  # Verifica se ha interseccao entre os dois retangulos\n",
        "  if verifica(A,B)==False:\n",
        "    return -1\n",
        "  else:\n",
        "\n",
        "    # Calcula a area da interseccao\n",
        "    dentro = (min(A[1][0],B[1][0]) - max(A[0][0],B[0][0])+1)*(min(A[1][1],B[1][1])-max(A[0][1],B[0][1])+1)\n",
        "    return dentro\n",
        "\n",
        "tamanho = area(C,B)\n",
        "if tamanho != -1\n",
        "  print(f\"A area da interseccao e {tamanho}\")\n",
        "else:\n",
        "  print(\"Nao ha interseccao entre os retangulos\")"
      ],
      "execution_count": 51,
      "outputs": [
        {
          "output_type": "stream",
          "name": "stdout",
          "text": [
            "A area da interseccao e -1\n"
          ]
        }
      ]
    },
    {
      "cell_type": "markdown",
      "metadata": {
        "id": "64g_JYQzQ_Gn"
      },
      "source": [
        "5) Rest Client - World Clock\n",
        "\n",
        "Application that queries a server and displays the current date/time hour in local and UTC\n",
        "timezones.\n",
        "\n",
        "Server URL: http://worldclockapi.com/api/json/utc/now"
      ]
    },
    {
      "cell_type": "code",
      "metadata": {
        "colab": {
          "base_uri": "https://localhost:8080/"
        },
        "id": "x-XyJOHtREmz",
        "outputId": "bb5b34f6-2a33-418f-bb8d-182fa7414ff7"
      },
      "source": [
        "import json\n",
        "import requests\n",
        "\n",
        "# requisicao ao servidor\n",
        "resposta = requests.get(\"http://worldclockapi.com/api/json/utc/now\")\n",
        "objeto = resposta.json()\n",
        "\n",
        "# transforma a resposta em duas listas com valores inteiros para data e para hora\n",
        "lista = objeto['currentDateTime'].split('T')\n",
        "lista[1] = lista[1].replace('Z','')\n",
        "data = lista[0].split('-')\n",
        "hora = lista[1].split(':')\n",
        "for i in range(len(data)):\n",
        "  data[i] = int(data[i])\n",
        "for i in range(len(hora)):\n",
        "  hora[i] = int(hora[i])\n",
        "\n",
        "# imprime a data e a hora utc\n",
        "print(\"Data utc:\")\n",
        "print(f\"{data[2]}/{data[1]}/{data[0]}\")\n",
        "print(\"Hora utc:\")\n",
        "print(f\"{hora[0]}:{hora[1]}\")\n",
        "print(\"\")\n",
        "\n",
        "#meses do ano\n",
        "mes = [0,31,28,31,30,31,30,31,31,30,31,30,31]\n",
        "\n",
        "# calcula a hora local com base na resposta da requisicao\n",
        "hora[0] -= 3\n",
        "if hora[0] <= 0:\n",
        "  hora[0] += 24\n",
        "  data[2] -=1\n",
        "  if data[2] <= 0:\n",
        "    data[2] += mes[data[1]-1]\n",
        "    data[1] -= 1\n",
        "    if data[1] <= 0:\n",
        "      data[1] += 12\n",
        "      data[0] -= 1\n",
        "\n",
        "# imprime a data e a hora local\n",
        "print(\"Data local:\")\n",
        "print(f\"{data[2]}/{data[1]}/{data[0]}\")\n",
        "print(\"Hora local:\")\n",
        "print(f\"{hora[0]}:{hora[1]}\")"
      ],
      "execution_count": 83,
      "outputs": [
        {
          "output_type": "stream",
          "name": "stdout",
          "text": [
            "Data utc:\n",
            "30/11/2021\n",
            "Hora utc:\n",
            "15:24\n",
            "\n",
            "Data local:\n",
            "30/11/2021\n",
            "Hora local:\n",
            "12:24\n"
          ]
        }
      ]
    }
  ]
}